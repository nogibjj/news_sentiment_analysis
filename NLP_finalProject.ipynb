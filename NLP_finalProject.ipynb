{
 "cells": [
  {
   "cell_type": "code",
   "execution_count": 1,
   "metadata": {},
   "outputs": [],
   "source": [
    "import matplotlib.pyplot as plt\n",
    "from nltk.sentiment import vader\n",
    "import numpy as np\n",
    "import prep_financial_phrasebank as prep # library for preprocessing dataset\n",
    "from afinn import Afinn\n",
    "from sklearn.model_selection import train_test_split\n",
    "from sklearn.linear_model import LogisticRegression\n",
    "\n"
   ]
  },
  {
   "cell_type": "markdown",
   "metadata": {},
   "source": [
    "## Financial Phrasebank\n",
    "\n",
    "This dataset contains labelled sentences extracted from financial news. It's split into 4 categories, each one based on the % of experts that agreed on the sentence's label:\n",
    "1) sentences_50agree\n",
    "2) sentences_66agree\n",
    "3) sentences_75agree\n",
    "4) sentences_100agree\n",
    "\n",
    "The entire dataset contains 11,821 news articles.\n",
    "\n"
   ]
  },
  {
   "cell_type": "markdown",
   "metadata": {},
   "source": [
    "## Data preparation\n",
    "\n",
    "Since our real data is in the form of news article abstracts, we perform certain data cleaning steps:\n",
    "\n",
    "1) turn the entire sentence to lowercase\n",
    "2) handle negations: The way we are handling negation is by using the wordnet library which contains lists of antonyms for several words. Whenever the word \"not\" or \"n't\" is encountered, we replace the next word with its antonym. For example, \"not good\" becomes \"bad\". This process will allow us to then remove stopwords without affecting the sentiment of the sentence.\n",
    "3) remove punctuation\n",
    "4) remove stopwords\n",
    "\n",
    "After the cleaning is done, we proceed with sentence tokenization. For tokenization, we'll use two approaches:\n",
    "1) single-embedding tokenization using the sentiment score for each word and **averaging** the sentiment scores for all words in a sentence\n",
    "2) using pretrained word2vec embeddings. This approach uses pretrained embeddings generated from the google news 300 dataset which was trained on 100 billion words and generates vectors of 300 dimensions for each word. In this approach we try to extract as much context as possible from each word in the sentence."
   ]
  },
  {
   "cell_type": "markdown",
   "metadata": {},
   "source": [
    "### Single-embedding tokenization\n",
    "\n",
    "We'll start with a simple model which gives each word a sentiment score. The sentence sentiment will be determined by the **average** of the sentiment scores of the words in the sentence.\n",
    "\n",
    "For this model, we used the score method from the afinn library to get the sentiment scores for each word. "
   ]
  },
  {
   "cell_type": "code",
   "execution_count": 17,
   "metadata": {},
   "outputs": [
    {
     "data": {
      "text/plain": [
       "2263"
      ]
     },
     "execution_count": 17,
     "metadata": {},
     "output_type": "execute_result"
    }
   ],
   "source": [
    "afin = Afinn()"
   ]
  },
  {
   "cell_type": "code",
   "execution_count": 4,
   "metadata": {},
   "outputs": [],
   "source": [
    "def sum_vader_scores(sentence):\n",
    "    sent_score = np.sum(np.array([afin.score(word) for word in sentence]))\n",
    "    return sent_score\n",
    "\n",
    "def generate_X_vader(df):\n",
    "    X = np.array([\n",
    "        sum_vader_scores(sentence)\n",
    "        for sentence in df['tokenized_sentences']\n",
    "    ])\n",
    "    return X.reshape(-1,1)\n"
   ]
  },
  {
   "cell_type": "code",
   "execution_count": 5,
   "metadata": {},
   "outputs": [],
   "source": [
    "# import and clean data\n",
    "fp = prep.import_all_splits()\n",
    "fp = prep.tokenize_financial_phrasebank(fp)\n",
    "# get X and y with afinn embeddings\n",
    "X = prep.generate_X_vader(fp)\n",
    "y = prep.generate_y_vader()"
   ]
  },
  {
   "cell_type": "code",
   "execution_count": 16,
   "metadata": {},
   "outputs": [],
   "source": [
    "X_train, X_test, y_train, y_test = train_test_split(X, y, test_size=0.2, random_state=42)"
   ]
  },
  {
   "cell_type": "code",
   "execution_count": 10,
   "metadata": {},
   "outputs": [
    {
     "name": "stdout",
     "output_type": "stream",
     "text": [
      "afinn (train): 0.612707182320442\n",
      "afinn (test): 0.6203090507726269\n"
     ]
    },
    {
     "name": "stderr",
     "output_type": "stream",
     "text": [
      "c:\\Users\\cerva\\miniconda3\\lib\\site-packages\\sklearn\\utils\\validation.py:1183: DataConversionWarning: A column-vector y was passed when a 1d array was expected. Please change the shape of y to (n_samples, ), for example using ravel().\n",
      "  y = column_or_1d(y, warn=True)\n"
     ]
    }
   ],
   "source": [
    "clf = LogisticRegression(random_state=0, max_iter=1000).fit(X_train, y_train)\n",
    "print(\"afinn (train):\", clf.score(X_train, y_train))\n",
    "print(\"afinn (test):\", clf.score(X_test, y_test))"
   ]
  },
  {
   "cell_type": "code",
   "execution_count": 11,
   "metadata": {},
   "outputs": [
    {
     "name": "stdout",
     "output_type": "stream",
     "text": [
      "afinn (train): 0.612707182320442\n",
      "afinn (test): 0.6203090507726269\n"
     ]
    },
    {
     "name": "stderr",
     "output_type": "stream",
     "text": [
      "c:\\Users\\cerva\\miniconda3\\lib\\site-packages\\sklearn\\ensemble\\_gb.py:424: DataConversionWarning: A column-vector y was passed when a 1d array was expected. Please change the shape of y to (n_samples, ), for example using ravel().\n",
      "  y = column_or_1d(y, warn=True)\n"
     ]
    }
   ],
   "source": [
    "from sklearn.ensemble import GradientBoostingClassifier\n",
    "from sklearn import metrics\n",
    "\n",
    "# prepare training and testing data\n",
    "X_train, X_test, y_train, y_test = train_test_split(X, y, test_size=0.2, random_state=42) \n",
    "\n",
    "gbc = GradientBoostingClassifier(\n",
    "    random_state=0, max_depth=4, n_estimators=30, learning_rate=0.3\n",
    ").fit(X_train, y_train)\n",
    "print(\"afinn (train):\", gbc.score(X_train, y_train))\n",
    "print(\"afinn (test):\", gbc.score(X_test, y_test))"
   ]
  },
  {
   "cell_type": "code",
   "execution_count": 12,
   "metadata": {},
   "outputs": [
    {
     "data": {
      "text/plain": [
       "array([2], dtype=int64)"
      ]
     },
     "execution_count": 12,
     "metadata": {},
     "output_type": "execute_result"
    }
   ],
   "source": [
    "y_train[0]"
   ]
  },
  {
   "cell_type": "code",
   "execution_count": 13,
   "metadata": {},
   "outputs": [
    {
     "name": "stdout",
     "output_type": "stream",
     "text": [
      "Epoch: 1, Loss: 1.1279287338256836\n",
      "Epoch: 2, Loss: 1.03074049949646\n",
      "Epoch: 3, Loss: 0.9399200081825256\n",
      "Epoch: 4, Loss: 0.8547313213348389\n",
      "Epoch: 5, Loss: 0.7754307985305786\n",
      "Epoch: 6, Loss: 0.7023527026176453\n",
      "Epoch: 7, Loss: 0.6358165740966797\n",
      "Epoch: 8, Loss: 0.5761474370956421\n",
      "Epoch: 9, Loss: 0.5236926078796387\n",
      "Epoch: 10, Loss: 0.4788150489330292\n",
      "Epoch: 11, Loss: 0.4418506324291229\n",
      "Epoch: 12, Loss: 0.4130420684814453\n",
      "Epoch: 13, Loss: 0.39245468378067017\n",
      "Epoch: 14, Loss: 0.3798768222332001\n",
      "Epoch: 15, Loss: 0.3747141659259796\n",
      "Epoch: 16, Loss: 0.37590497732162476\n",
      "Epoch: 17, Loss: 0.38189730048179626\n",
      "Epoch: 18, Loss: 0.39074909687042236\n",
      "Epoch: 19, Loss: 0.40037909150123596\n",
      "Epoch: 20, Loss: 0.4089144170284271\n",
      "Epoch: 21, Loss: 0.41499829292297363\n",
      "Epoch: 22, Loss: 0.41793790459632874\n",
      "Epoch: 23, Loss: 0.4176730811595917\n",
      "Epoch: 24, Loss: 0.414628803730011\n",
      "Epoch: 25, Loss: 0.40952637791633606\n",
      "Epoch: 26, Loss: 0.4032071530818939\n",
      "Epoch: 27, Loss: 0.39649197459220886\n",
      "Epoch: 28, Loss: 0.3900834321975708\n",
      "Epoch: 29, Loss: 0.384509414434433\n",
      "Epoch: 30, Loss: 0.3801007866859436\n",
      "Epoch: 31, Loss: 0.37699782848358154\n",
      "Epoch: 32, Loss: 0.37517669796943665\n",
      "Epoch: 33, Loss: 0.3744869530200958\n",
      "Epoch: 34, Loss: 0.37469643354415894\n",
      "Epoch: 35, Loss: 0.3755325675010681\n",
      "Epoch: 36, Loss: 0.37671956419944763\n",
      "Epoch: 37, Loss: 0.3780069053173065\n",
      "Epoch: 38, Loss: 0.37918880581855774\n",
      "Epoch: 39, Loss: 0.38011473417282104\n",
      "Epoch: 40, Loss: 0.380692720413208\n",
      "Epoch: 41, Loss: 0.3808862566947937\n",
      "Epoch: 42, Loss: 0.3807070851325989\n",
      "Epoch: 43, Loss: 0.3802056610584259\n",
      "Epoch: 44, Loss: 0.3794594705104828\n",
      "Epoch: 45, Loss: 0.3785611093044281\n",
      "Epoch: 46, Loss: 0.3776072859764099\n",
      "Epoch: 47, Loss: 0.37668800354003906\n",
      "Epoch: 48, Loss: 0.37587884068489075\n",
      "Epoch: 49, Loss: 0.37523412704467773\n",
      "Epoch: 50, Loss: 0.3747839629650116\n",
      "Epoch: 51, Loss: 0.37453359365463257\n",
      "Epoch: 52, Loss: 0.37446561455726624\n",
      "Epoch: 53, Loss: 0.374544620513916\n",
      "Epoch: 54, Loss: 0.3747237026691437\n",
      "Epoch: 55, Loss: 0.3749515116214752\n",
      "Epoch: 56, Loss: 0.3751794099807739\n",
      "Epoch: 57, Loss: 0.3753671646118164\n",
      "Epoch: 58, Loss: 0.3754875361919403\n",
      "Epoch: 59, Loss: 0.3755272924900055\n",
      "Epoch: 60, Loss: 0.3754875361919403\n",
      "Epoch: 61, Loss: 0.37538039684295654\n",
      "Epoch: 62, Loss: 0.37522628903388977\n",
      "Epoch: 63, Loss: 0.375048965215683\n",
      "Epoch: 64, Loss: 0.37487196922302246\n",
      "Epoch: 65, Loss: 0.37471508979797363\n",
      "Epoch: 66, Loss: 0.3745923340320587\n",
      "Epoch: 67, Loss: 0.37451085448265076\n",
      "Epoch: 68, Loss: 0.37447091937065125\n",
      "Epoch: 69, Loss: 0.3744676411151886\n",
      "Epoch: 70, Loss: 0.37449178099632263\n",
      "Epoch: 71, Loss: 0.37453243136405945\n",
      "Epoch: 72, Loss: 0.37457844614982605\n",
      "Epoch: 73, Loss: 0.3746201694011688\n",
      "Epoch: 74, Loss: 0.37465041875839233\n",
      "Epoch: 75, Loss: 0.3746649920940399\n",
      "Epoch: 76, Loss: 0.37466293573379517\n",
      "Epoch: 77, Loss: 0.37464603781700134\n",
      "Epoch: 78, Loss: 0.3746180534362793\n",
      "Epoch: 79, Loss: 0.37458378076553345\n",
      "Epoch: 80, Loss: 0.37454840540885925\n",
      "Epoch: 81, Loss: 0.3745162785053253\n",
      "Epoch: 82, Loss: 0.374490886926651\n",
      "Epoch: 83, Loss: 0.37447401881217957\n",
      "Epoch: 84, Loss: 0.3744660019874573\n",
      "Epoch: 85, Loss: 0.3744659125804901\n",
      "Epoch: 86, Loss: 0.37447160482406616\n",
      "Epoch: 87, Loss: 0.37448063492774963\n",
      "Epoch: 88, Loss: 0.37449049949645996\n",
      "Epoch: 89, Loss: 0.3744989335536957\n",
      "Epoch: 90, Loss: 0.3745044469833374\n",
      "Epoch: 91, Loss: 0.3745061159133911\n",
      "Epoch: 92, Loss: 0.37450411915779114\n",
      "Epoch: 93, Loss: 0.3744991719722748\n",
      "Epoch: 94, Loss: 0.37449219822883606\n",
      "Epoch: 95, Loss: 0.37448447942733765\n",
      "Epoch: 96, Loss: 0.37447717785835266\n",
      "Epoch: 97, Loss: 0.3744712471961975\n",
      "Epoch: 98, Loss: 0.37446731328964233\n",
      "Epoch: 99, Loss: 0.37446531653404236\n",
      "Epoch: 100, Loss: 0.3744652271270752\n"
     ]
    }
   ],
   "source": [
    "import torch\n",
    "from torch import nn\n",
    "from torch.optim import Adam\n",
    "\n",
    "X_train, X_test, y_train, y_test = train_test_split(X, y, test_size=0.2, random_state=42) \n",
    "\n",
    "class SimpleRNN(nn.Module):\n",
    "    def __init__(self, hidden_size):\n",
    "        super(SimpleRNN, self).__init__()\n",
    "        self.rnn = nn.RNN(input_size=1, hidden_size=hidden_size, batch_first=True)\n",
    "        self.fc = nn.Linear(hidden_size, 1)\n",
    "\n",
    "    def forward(self, x):\n",
    "        out, _ = self.rnn(x)\n",
    "        out = self.fc(out[:, -1, :])\n",
    "        return out\n",
    "\n",
    "# Convert numpy arrays to PyTorch tensors\n",
    "X_train_torch = torch.from_numpy(X_train).float()\n",
    "y_train_torch = torch.from_numpy(y_train).float()\n",
    "\n",
    "# Reshape X_train to be (batch_size, sequence_length, input_size)\n",
    "X_train_torch = X_train_torch.view(-1, 1, 1)\n",
    "\n",
    "# Initialize the model, loss function, and optimizer\n",
    "model = SimpleRNN(hidden_size=10)\n",
    "criterion = nn.MSELoss()\n",
    "optimizer = Adam(model.parameters(), lr=0.01)\n",
    "\n",
    "# Train the model\n",
    "for epoch in range(100):\n",
    "    model.train()\n",
    "    optimizer.zero_grad()\n",
    "    outputs = model(X_train_torch)\n",
    "    loss = criterion(outputs, y_train_torch)\n",
    "    loss.backward()\n",
    "    optimizer.step()\n",
    "    # print(f'Epoch: {epoch+1}, Loss: {loss.item()}')"
   ]
  },
  {
   "cell_type": "code",
   "execution_count": 14,
   "metadata": {},
   "outputs": [
    {
     "name": "stdout",
     "output_type": "stream",
     "text": [
      "Test Loss: 0.3615744113922119\n",
      "Accuracy: 0.620309054851532\n"
     ]
    }
   ],
   "source": [
    "# Convert numpy arrays to PyTorch tensors\n",
    "X_test_torch = torch.from_numpy(X_test).float()\n",
    "y_test_torch = torch.from_numpy(y_test).float()\n",
    "\n",
    "# Reshape X_test to be (batch_size, sequence_length, input_size)\n",
    "X_test_torch = X_test_torch.view(-1, 1, 1)\n",
    "\n",
    "# Switch model to evaluation mode\n",
    "model.eval()\n",
    "\n",
    "# Make predictions\n",
    "with torch.no_grad():\n",
    "    predictions = model(X_test_torch)\n",
    "\n",
    "# Calculate the loss\n",
    "loss = criterion(predictions, y_test_torch)\n",
    "print(f'Test Loss: {loss.item()}')\n",
    "\n",
    "# Convert the model's output to binary labels\n",
    "predicted_labels = torch.round(predictions)\n",
    "\n",
    "# Calculate the number of correct predictions\n",
    "correct_predictions = (predicted_labels == y_test_torch).float().sum()\n",
    "\n",
    "# Calculate the accuracy\n",
    "accuracy = correct_predictions / y_test_torch.shape[0]\n",
    "\n",
    "print(f'Accuracy: {accuracy.item()}')"
   ]
  },
  {
   "cell_type": "code",
   "execution_count": 15,
   "metadata": {},
   "outputs": [
    {
     "name": "stdout",
     "output_type": "stream",
     "text": [
      "[1,   100] loss: 1.044\n",
      "[1,   200] loss: 1.990\n",
      "[1,   300] loss: 2.920\n",
      "[2,   100] loss: 0.919\n",
      "[2,   200] loss: 1.830\n",
      "[2,   300] loss: 2.742\n",
      "[3,   100] loss: 0.919\n",
      "[3,   200] loss: 1.810\n",
      "[3,   300] loss: 2.704\n",
      "[4,   100] loss: 0.886\n",
      "[4,   200] loss: 1.784\n",
      "[4,   300] loss: 2.660\n",
      "[5,   100] loss: 0.885\n",
      "[5,   200] loss: 1.772\n",
      "[5,   300] loss: 2.672\n",
      "[6,   100] loss: 0.895\n",
      "[6,   200] loss: 1.788\n",
      "[6,   300] loss: 2.666\n",
      "[7,   100] loss: 0.887\n",
      "[7,   200] loss: 1.754\n",
      "[7,   300] loss: 2.632\n",
      "[8,   100] loss: 0.880\n",
      "[8,   200] loss: 1.753\n",
      "[8,   300] loss: 2.628\n",
      "[9,   100] loss: 0.872\n",
      "[9,   200] loss: 1.737\n",
      "[9,   300] loss: 2.626\n",
      "[10,   100] loss: 0.868\n",
      "[10,   200] loss: 1.727\n",
      "[10,   300] loss: 2.588\n",
      "Finished Training\n",
      "Accuracy:  0.6419627749576988\n"
     ]
    }
   ],
   "source": [
    "prep.RNN_experiment_torch()"
   ]
  },
  {
   "cell_type": "markdown",
   "metadata": {},
   "source": [
    "### Synthetic data generation\n",
    "\n",
    "We generated synthetic data using the following process:\n",
    "1) obtain a vocabulary of words using nltk's sentiment analyzer's lexicon\n",
    "2) clean that vocabulary to only include words and filters out punctuation, numbers, etc.\n",
    "3) generate random sized sentences using random words from the vocabulary\n",
    "4) create a label for each sentence by taking the **average** of the sentiment scores of the words in the sentence. \n",
    "\n",
    "The following histogram shows the distribution of the sentiment score in each of the words in our vocabulary."
   ]
  },
  {
   "cell_type": "code",
   "execution_count": null,
   "metadata": {},
   "outputs": [],
   "source": [
    "# Initialize VADER\n",
    "sia = vader.SentimentIntensityAnalyzer()\n",
    "\n",
    "# make a vocabulary from the lexicon which excludes non alpha tokens\n",
    "vocab = sorted([token for token in sia.lexicon if token.isalpha()])\n",
    "\n",
    "values = np.array([sia.lexicon[word] for word in vocab])\n",
    "\n",
    "# show a histogram of vocab sentiment scores\n",
    "plt.hist(values, bins='auto')  # 'auto' automatically determines the number of bins\n",
    "plt.title('Histogram of VADER Lexicon Values')\n",
    "plt.xlabel('Value')\n",
    "plt.ylabel('Frequency')\n",
    "plt.show()"
   ]
  },
  {
   "cell_type": "markdown",
   "metadata": {},
   "source": [
    "Given the above distribution, we've decided to create a 'neutral' sentiment cutoff between [[ INPUT THE CUTOFFS WE CHOSE ]]. Aggregate scores below this range will be classified as 'negative' while scores above this range will be classified as 'positive'."
   ]
  }
 ],
 "metadata": {
  "kernelspec": {
   "display_name": "base",
   "language": "python",
   "name": "python3"
  },
  "language_info": {
   "codemirror_mode": {
    "name": "ipython",
    "version": 3
   },
   "file_extension": ".py",
   "mimetype": "text/x-python",
   "name": "python",
   "nbconvert_exporter": "python",
   "pygments_lexer": "ipython3",
   "version": "3.10.12"
  }
 },
 "nbformat": 4,
 "nbformat_minor": 2
}
