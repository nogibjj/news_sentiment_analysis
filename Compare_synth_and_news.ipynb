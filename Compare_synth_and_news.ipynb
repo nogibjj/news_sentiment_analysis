{
 "cells": [
  {
   "cell_type": "code",
   "execution_count": 3,
   "metadata": {},
   "outputs": [],
   "source": [
    "from prep_financial_phrasebank import tokenize_financial_phrasebank, import_data\n",
    "import pandas as pd"
   ]
  },
  {
   "cell_type": "code",
   "execution_count": 4,
   "metadata": {},
   "outputs": [],
   "source": [
    "def aggregate_fin_data():\n",
    "    \"\"\"\n",
    "    Aggregate all splits of financial_phrasebank\n",
    "    \"\"\"\n",
    "    df = pd.DataFrame()\n",
    "    for split in [\n",
    "        \"sentences_50agree\",\n",
    "        \"sentences_66agree\",\n",
    "        \"sentences_75agree\",\n",
    "        \"sentences_allagree\",\n",
    "    ]:\n",
    "        df = pd.concat([df, import_data(split)])\n",
    "    df = tokenize_financial_phrasebank(df)\n",
    "    return df"
   ]
  },
  {
   "cell_type": "code",
   "execution_count": 15,
   "metadata": {},
   "outputs": [
    {
     "name": "stdout",
     "output_type": "stream",
     "text": [
      "percentage of negative news articles with expected words = 0.3045479155387114%\n",
      "percentage of neutral news articles with expected words = 8.27016783974012%\n",
      "percentage of positive news articles with expected words = 4.487005955603681%\n"
     ]
    }
   ],
   "source": [
    "findata = aggregate_fin_data()\n",
    "\n",
    "words_to_check = (\"bad\", \"uh\", \"down\", \"maybe\", \"worse\", \"less\", \"terrible\")\n",
    "count = findata[\n",
    "    (findata[\"label\"] == 0)\n",
    "    & (findata[\"tokenized_sentences\"].str.contains(\"|\".join(words_to_check)))\n",
    "].shape[0]\n",
    "print(\n",
    "    \"percentage of negative news articles with expected words = \"\n",
    "    + str(100 * count / len(findata))\n",
    "    + \"%\"\n",
    ")\n",
    "\n",
    "words_to_check = (\"uh\", \"not\", \"up\", \"down\", \"maybe\", \"less\", \"more\", \"same\")\n",
    "count = findata[\n",
    "    (findata[\"label\"] == 1)\n",
    "    & (findata[\"tokenized_sentences\"].str.contains(\"|\".join(words_to_check)))\n",
    "].shape[0]\n",
    "print(\n",
    "    \"percentage of neutral news articles with expected words = \"\n",
    "    + str(100 * count / len(findata))\n",
    "    + \"%\"\n",
    ")\n",
    "\n",
    "words_to_check = (\"good\", \"uh\", \"up\", \"maybe\", \"better\", \"more\", \"great\")\n",
    "count = findata[\n",
    "    (findata[\"label\"] == 2)\n",
    "    & (findata[\"tokenized_sentences\"].str.contains(\"|\".join(words_to_check)))\n",
    "].shape[0]\n",
    "print(\n",
    "    \"percentage of positive news articles with expected words = \"\n",
    "    + str(100 * count / len(findata))\n",
    "    + \"%\"\n",
    ")"
   ]
  }
 ],
 "metadata": {
  "kernelspec": {
   "display_name": "Python 3",
   "language": "python",
   "name": "python3"
  },
  "language_info": {
   "codemirror_mode": {
    "name": "ipython",
    "version": 3
   },
   "file_extension": ".py",
   "mimetype": "text/x-python",
   "name": "python",
   "nbconvert_exporter": "python",
   "pygments_lexer": "ipython3",
   "version": "3.11.5"
  },
  "orig_nbformat": 4
 },
 "nbformat": 4,
 "nbformat_minor": 2
}
