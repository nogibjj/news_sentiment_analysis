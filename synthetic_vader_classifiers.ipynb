{
 "cells": [
  {
   "cell_type": "code",
   "execution_count": 85,
   "metadata": {},
   "outputs": [
    {
     "name": "stderr",
     "output_type": "stream",
     "text": [
      "[nltk_data] Downloading package stopwords to\n",
      "[nltk_data]     /Users/adlerviton/nltk_data...\n",
      "[nltk_data]   Package stopwords is already up-to-date!\n",
      "[nltk_data] Downloading package wordnet to\n",
      "[nltk_data]     /Users/adlerviton/nltk_data...\n",
      "[nltk_data]   Package wordnet is already up-to-date!\n",
      "[nltk_data] Downloading package vader_lexicon to\n",
      "[nltk_data]     /Users/adlerviton/nltk_data...\n",
      "[nltk_data]   Package vader_lexicon is already up-to-date!\n"
     ]
    }
   ],
   "source": [
    "from prep_financial_phrasebank import (\n",
    "    tokenize_financial_phrasebank,\n",
    "    generate_data_word2vec,\n",
    "    sum_token_embeddings,\n",
    "    run_experiment,\n",
    "    RNN_experiment_torch,\n",
    ")\n",
    "import nltk\n",
    "import pandas as pd\n",
    "import random\n",
    "import numpy as np\n",
    "from nltk.sentiment import vader\n",
    "from afinn import Afinn\n",
    "from sklearn.model_selection import train_test_split\n",
    "from sklearn.linear_model import LogisticRegression\n",
    "\n",
    "\n",
    "nltk.download(\"stopwords\")\n",
    "nltk.download(\"wordnet\")\n",
    "nltk.download(\"vader_lexicon\")\n",
    "afin = Afinn()"
   ]
  },
  {
   "cell_type": "markdown",
   "metadata": {},
   "source": [
    "# 1: Set up"
   ]
  },
  {
   "cell_type": "code",
   "execution_count": 86,
   "metadata": {},
   "outputs": [],
   "source": [
    "# Initialize VADER\n",
    "sia = vader.SentimentIntensityAnalyzer()"
   ]
  },
  {
   "cell_type": "code",
   "execution_count": 87,
   "metadata": {},
   "outputs": [],
   "source": [
    "# make a vocabulary from the lexicon which excludes non alpha tokens\n",
    "vocab = sorted([token for token in sia.lexicon if token.isalpha()])"
   ]
  },
  {
   "cell_type": "code",
   "execution_count": 88,
   "metadata": {},
   "outputs": [],
   "source": [
    "import gensim.downloader as api\n",
    "\n",
    "google_news = api.load(\"word2vec-google-news-300\")"
   ]
  },
  {
   "cell_type": "code",
   "execution_count": 89,
   "metadata": {},
   "outputs": [],
   "source": [
    "from prep_financial_phrasebank import clean_text"
   ]
  },
  {
   "cell_type": "markdown",
   "metadata": {},
   "source": [
    "# 2: Create Vader Synthetic Data (random words from NLTK vader lexicon)"
   ]
  },
  {
   "cell_type": "markdown",
   "metadata": {},
   "source": [
    "### a. Get random sentences from lexicon"
   ]
  },
  {
   "cell_type": "code",
   "execution_count": 90,
   "metadata": {},
   "outputs": [],
   "source": [
    "def create_synth_data(num):\n",
    "    columns = [\"sentence\", \"label\"]\n",
    "    synthetic_df = pd.DataFrame(columns=columns)\n",
    "    for i in range(num):\n",
    "        max_length = 8\n",
    "        length = int(np.round(np.random.uniform(0.15, 1) * max_length))\n",
    "        rand_text = [random.choice(vocab) for _ in range(length)]\n",
    "        random_text = \" \".join(rand_text)\n",
    "        sent = sum(sia.lexicon[word] for word in rand_text) / len(rand_text)\n",
    "        synthetic_df.loc[i] = [random_text, sent]  # Add rand_text to synthetic_df\n",
    "\n",
    "    synthetic_df[\"label\"] = np.where(\n",
    "        synthetic_df[\"label\"] < -0.58, 0, np.where(synthetic_df[\"label\"] > 0.18, 2, 1)\n",
    "    )\n",
    "\n",
    "    return synthetic_df"
   ]
  },
  {
   "cell_type": "markdown",
   "metadata": {},
   "source": [
    "### b. Get sentiment value for each word from vader sentiment analyzer, then average."
   ]
  },
  {
   "cell_type": "markdown",
   "metadata": {},
   "source": [
    "### c. labels are thresholded as follows, creating relatively balanced data:\n",
    "```\n",
    "        avg < -0.58 becomes 0\n",
    "-0.58 < avg < 0.18  becomes 1\n",
    "0.18  < avg         becomes 2\n",
    "```"
   ]
  },
  {
   "cell_type": "markdown",
   "metadata": {},
   "source": [
    "### d. look at label distribution of fake data after thresholding"
   ]
  },
  {
   "cell_type": "code",
   "execution_count": 91,
   "metadata": {},
   "outputs": [
    {
     "data": {
      "image/png": "[encoded data removed]",
      "text/plain": [
       "<Figure size 640x480 with 1 Axes>"
      ]
     },
     "metadata": {},
     "output_type": "display_data"
    }
   ],
   "source": [
    "import matplotlib.pyplot as plt\n",
    "import numpy as np\n",
    "\n",
    "synthetic_df = create_synth_data(10000)\n",
    "\n",
    "\n",
    "synthetic_df[\"label\"].hist()\n",
    "\n",
    "# Add labels and title\n",
    "plt.xlabel(\"Label\")\n",
    "plt.ylabel(\"Frequency\")\n",
    "plt.title(\"Histogram of Label Column\")\n",
    "\n",
    "# Display the histogram\n",
    "plt.show()"
   ]
  },
  {
   "cell_type": "markdown",
   "metadata": {},
   "source": [
    "# 3: Create 2 1D Afinn models"
   ]
  },
  {
   "cell_type": "code",
   "execution_count": 92,
   "metadata": {},
   "outputs": [],
   "source": [
    "def sum_vader_scores(sentence):\n",
    "    sent_score = np.sum(np.array([afin.score(word) for word in sentence]))\n",
    "    return sent_score\n",
    "\n",
    "\n",
    "def generate_X_vader(df):\n",
    "    X = np.array([sum_vader_scores(sentence) for sentence in df[\"text\"]])\n",
    "    return X.reshape(-1, 1)\n",
    "\n",
    "\n",
    "def generate_y_vader(df):\n",
    "    y = np.array(df.label).reshape(-1, 1)\n",
    "    return y"
   ]
  },
  {
   "cell_type": "markdown",
   "metadata": {},
   "source": [
    "### a. Train afinn Logistic Regression Model"
   ]
  },
  {
   "cell_type": "code",
   "execution_count": 93,
   "metadata": {},
   "outputs": [
    {
     "name": "stderr",
     "output_type": "stream",
     "text": [
      "/Users/adlerviton/miniconda3/lib/python3.11/site-packages/sklearn/utils/validation.py:1183: DataConversionWarning: A column-vector y was passed when a 1d array was expected. Please change the shape of y to (n_samples, ), for example using ravel().\n",
      "  y = column_or_1d(y, warn=True)\n"
     ]
    }
   ],
   "source": [
    "columns = [\"text\", \"label\"]\n",
    "synthetic_df_clean = pd.DataFrame(columns=columns)\n",
    "synthetic_df_clean[\"label\"] = synthetic_df[\"label\"]\n",
    "synthetic_df_clean[\"text\"] = synthetic_df[\"sentence\"].apply(clean_text)\n",
    "# remove empty strings\n",
    "synthetic_df_clean = synthetic_df_clean[synthetic_df_clean[\"text\"] != \"\"]\n",
    "\n",
    "\n",
    "X_single = generate_X_vader(synthetic_df_clean)\n",
    "y_single = generate_y_vader(synthetic_df_clean)\n",
    "X_train, X_test, y_train, y_test = train_test_split(\n",
    "    X_single, y_single, test_size=0.2, random_state=42\n",
    ")\n",
    "\n",
    "clf = LogisticRegression(random_state=0, max_iter=1000).fit(X_train, y_train)"
   ]
  },
  {
   "cell_type": "markdown",
   "metadata": {},
   "source": [
    "### b. Train afinn RNN model"
   ]
  },
  {
   "cell_type": "code",
   "execution_count": 94,
   "metadata": {},
   "outputs": [],
   "source": [
    "import torch\n",
    "from torch import nn\n",
    "from torch.optim import Adam\n",
    "\n",
    "X_train, X_test, y_train, y_test = train_test_split(\n",
    "    X_single, y_single, test_size=0.2, random_state=42\n",
    ")\n",
    "\n",
    "\n",
    "class SimpleRNN(nn.Module):\n",
    "    def __init__(self, hidden_size):\n",
    "        super(SimpleRNN, self).__init__()\n",
    "        self.rnn = nn.RNN(input_size=1, hidden_size=hidden_size, batch_first=True)\n",
    "        self.fc = nn.Linear(hidden_size, 1)\n",
    "\n",
    "    def forward(self, x):\n",
    "        out, _ = self.rnn(x)\n",
    "        out = self.fc(out[:, -1, :])\n",
    "        return out\n",
    "\n",
    "\n",
    "# Convert numpy arrays to PyTorch tensors\n",
    "X_train_torch = torch.from_numpy(X_train).float()\n",
    "y_train_torch = torch.from_numpy(y_train).float()\n",
    "\n",
    "# Reshape X_train to be (batch_size, sequence_length, input_size)\n",
    "X_train_torch = X_train_torch.view(-1, 1, 1)\n",
    "\n",
    "# Initialize the model, loss function, and optimizer\n",
    "model = SimpleRNN(hidden_size=10)\n",
    "criterion = nn.MSELoss()\n",
    "optimizer = Adam(model.parameters(), lr=0.01)\n",
    "\n",
    "# Train the model\n",
    "for epoch in range(100):\n",
    "    model.train()\n",
    "    optimizer.zero_grad()\n",
    "    outputs = model(X_train_torch)\n",
    "    loss = criterion(outputs, y_train_torch)\n",
    "    loss.backward()\n",
    "    optimizer.step()\n",
    "    # print(f'Epoch: {epoch+1}, Loss: {loss.item()}')"
   ]
  },
  {
   "cell_type": "code",
   "execution_count": 95,
   "metadata": {},
   "outputs": [
    {
     "name": "stdout",
     "output_type": "stream",
     "text": [
      "Test Loss: 0.6552258729934692\n"
     ]
    }
   ],
   "source": [
    "# Convert numpy arrays to PyTorch tensors\n",
    "X_test_torch = torch.from_numpy(X_test).float()\n",
    "y_test_torch = torch.from_numpy(y_test).float()\n",
    "X_train_torch = torch.from_numpy(X_train).float()\n",
    "y_train_torch = torch.from_numpy(y_train).float()\n",
    "\n",
    "# Reshape X_test to be (batch_size, sequence_length, input_size)\n",
    "X_test_torch = X_test_torch.view(-1, 1, 1)\n",
    "X_train_torch = X_train_torch.view(-1, 1, 1)\n",
    "\n",
    "# Switch model to evaluation mode\n",
    "model.eval()\n",
    "\n",
    "# Make predictions\n",
    "with torch.no_grad():\n",
    "    predictions_test = model(X_test_torch)\n",
    "    predictions_train = model(X_train_torch)\n",
    "\n",
    "# Calculate the loss\n",
    "loss = criterion(predictions_test, y_test_torch)\n",
    "print(f\"Test Loss: {loss.item()}\")\n",
    "\n",
    "# Convert the model's output to binary labels\n",
    "predicted_test_labels = torch.round(predictions_test)\n",
    "\n",
    "# Calculate the number of correct predictions\n",
    "correct_test_predictions = (predicted_test_labels == y_test_torch).float().sum()\n",
    "\n",
    "# Calculate the accuracy\n",
    "accuracy_test = correct_test_predictions / y_test_torch.shape[0]\n",
    "\n",
    "# Convert the model's output to binary labels\n",
    "predicted_train_labels = torch.round(predictions_train)\n",
    "\n",
    "# Calculate the number of correct predictions\n",
    "correct_train_predictions = (predicted_train_labels == y_train_torch).float().sum()\n",
    "\n",
    "# Calculate the accuracy\n",
    "accuracy_train = correct_train_predictions / y_train_torch.shape[0]"
   ]
  },
  {
   "cell_type": "markdown",
   "metadata": {},
   "source": [
    "### c. Get Results for both"
   ]
  },
  {
   "cell_type": "code",
   "execution_count": 96,
   "metadata": {},
   "outputs": [
    {
     "name": "stdout",
     "output_type": "stream",
     "text": [
      "afinn Logistic Regression (train): 0.337875\n",
      "afinn Logistic Regression (test): 0.345\n",
      "afinn RNN (train)): 0.33787500858306885\n",
      "afinn RNN (test)): 0.3449999988079071\n"
     ]
    }
   ],
   "source": [
    "print(\"afinn Logistic Regression (train):\", clf.score(X_train, y_train))\n",
    "print(\"afinn Logistic Regression (test):\", clf.score(X_test, y_test))\n",
    "print(f\"afinn RNN (train)): {accuracy_train.item()}\")\n",
    "print(f\"afinn RNN (test)): {accuracy_test.item()}\")"
   ]
  },
  {
   "cell_type": "markdown",
   "metadata": {},
   "source": [
    "# 4. Train 2 Word2Vec Models"
   ]
  },
  {
   "cell_type": "markdown",
   "metadata": {},
   "source": [
    "### a. Train Word2Vec Logistic Regression"
   ]
  },
  {
   "cell_type": "code",
   "execution_count": 97,
   "metadata": {},
   "outputs": [],
   "source": [
    "def aggregate_fake_splits(fakedata):\n",
    "    \"\"\"\n",
    "    Aggregate all splits of financial_phrasebank\n",
    "    \"\"\"\n",
    "    df = fakedata\n",
    "    df = tokenize_financial_phrasebank(df)\n",
    "    X_train, y_train, X_test, y_test = generate_data_word2vec(df)\n",
    "    return X_train, y_train, X_test, y_test\n",
    "\n",
    "\n",
    "def run_experiment1(synthetic_df) -> None:\n",
    "    from sklearn.linear_model import LogisticRegression\n",
    "\n",
    "    # prepare training and testing data\n",
    "    X_train, y_train, X_test, y_test = aggregate_fake_splits(synthetic_df)\n",
    "\n",
    "    clf = LogisticRegression(random_state=0, max_iter=1000).fit(X_train, y_train)\n",
    "    print(\"word2vec (train):\", clf.score(X_train, y_train))\n",
    "    print(\"word2vec (test):\", clf.score(X_test, y_test))\n",
    "\n",
    "    return clf"
   ]
  },
  {
   "cell_type": "code",
   "execution_count": 98,
   "metadata": {},
   "outputs": [],
   "source": [
    "def generate_X_word2vec(df):\n",
    "    X = np.array(\n",
    "        [\n",
    "            # sum the token embeddings for each sentence. If word is not in the model, return embedding of ['UNK']\n",
    "            sum_token_embeddings(\n",
    "                [\n",
    "                    google_news[word] if word in google_news else google_news[\"UNK\"]\n",
    "                    for _, word in enumerate(sentence)\n",
    "                ]\n",
    "            )\n",
    "            for _, sentence in enumerate(df.text)\n",
    "        ]\n",
    "    )\n",
    "    return X"
   ]
  },
  {
   "cell_type": "code",
   "execution_count": 99,
   "metadata": {},
   "outputs": [],
   "source": [
    "def create_labels_clf(synthetic_df):\n",
    "    clf = run_experiment1(synthetic_df)\n",
    "    columns = [\"text\", \"label\"]\n",
    "    new_df = pd.DataFrame(columns=columns)\n",
    "    new_df[\"text\"] = synthetic_df[\"sentence\"]\n",
    "    new_df[\"label\"] = synthetic_df[\"label\"]\n",
    "    X = generate_X_word2vec(new_df)\n",
    "    new_df[\"predicted\"] = clf.predict(X)\n",
    "    return new_df"
   ]
  },
  {
   "cell_type": "markdown",
   "metadata": {},
   "source": [
    "### b. Train Word2Vec RNN model"
   ]
  },
  {
   "cell_type": "code",
   "execution_count": 100,
   "metadata": {},
   "outputs": [],
   "source": [
    "import torch\n",
    "import torch.nn as nn\n",
    "import torch.nn.functional as F\n",
    "import torch.optim as optim\n",
    "from torch.utils.data import Dataset, DataLoader\n",
    "from torch.nn.utils.rnn import pad_sequence\n",
    "from sklearn import metrics\n",
    "\n",
    "\n",
    "def RNN_experiment_torch_synth(synthetic_df):\n",
    "    # prepare training and testing data\n",
    "    # X_train, y_train, X_test, y_test = aggregate_all_splits()\n",
    "    X_train, y_train, X_test, y_test = aggregate_fake_splits(synthetic_df)\n",
    "\n",
    "    # convert to torch tensors\n",
    "    X_train = torch.from_numpy(X_train)\n",
    "    y_train = torch.from_numpy(y_train)\n",
    "    X_test = torch.from_numpy(X_test)\n",
    "    y_test = torch.from_numpy(y_test)\n",
    "\n",
    "    # create dataset\n",
    "    class FinancialPhraseBankDataset(Dataset):\n",
    "        def __init__(self, X, y):\n",
    "            self.X = X\n",
    "            self.y = y\n",
    "\n",
    "        def __len__(self):\n",
    "            return len(self.y)\n",
    "\n",
    "        def __getitem__(self, idx):\n",
    "            return self.X[idx], self.y[idx]\n",
    "\n",
    "    # create dataloader\n",
    "    train_dataset = FinancialPhraseBankDataset(X_train, y_train)\n",
    "    train_loader = DataLoader(train_dataset, batch_size=32, shuffle=True)\n",
    "\n",
    "    # define model\n",
    "    class Net(nn.Module):\n",
    "        def __init__(self):\n",
    "            super(Net, self).__init__()\n",
    "            self.fc1 = nn.Linear(300, 300)\n",
    "            self.fc2 = nn.Linear(300, 3)\n",
    "\n",
    "        def forward(self, x):\n",
    "            x = F.relu(self.fc1(x))\n",
    "            x = self.fc2(x)\n",
    "            return x\n",
    "\n",
    "    net = Net()\n",
    "\n",
    "    # define loss function and optimizer\n",
    "    criterion = nn.CrossEntropyLoss()\n",
    "    optimizer = optim.SGD(net.parameters(), lr=0.001, momentum=0.9)\n",
    "\n",
    "    # train\n",
    "    for epoch in range(20):  # loop over the dataset multiple times\n",
    "        running_loss = 0.0\n",
    "        for i, data in enumerate(train_loader, 0):\n",
    "            # get the inputs; data is a list of [inputs, labels]\n",
    "            inputs, labels = data\n",
    "\n",
    "            # zero the parameter gradients\n",
    "            optimizer.zero_grad()\n",
    "\n",
    "            # forward + backward + optimize\n",
    "            outputs = net(inputs.float())\n",
    "            # print(outputs.shape)\n",
    "            # print(labels.shape)\n",
    "            loss = criterion(outputs, labels.long())\n",
    "            loss.backward()\n",
    "            optimizer.step()\n",
    "\n",
    "            # print statistics\n",
    "            running_loss += loss.item()\n",
    "            # if i % 100 == 99:  # print every 100 mini-batches\n",
    "            # print(\"[%d, %5d] loss: %.3f\" % (epoch + 1, i + 1, running_loss / 100))\n",
    "\n",
    "    # print(\"Finished Training\")\n",
    "    # After training, generate predictions on test data\n",
    "    X_test = X_test.float()\n",
    "    outputs_test = net(X_test)\n",
    "    _, predicted_test = torch.max(outputs_test, 1)\n",
    "    outputs_train = net(X_train)\n",
    "    _, predicted_train = torch.max(outputs_train, 1)\n",
    "    # Convert tensors to numpy arrays for comparison with sklearn metrics\n",
    "    y_test_np = y_test.numpy()\n",
    "    predicted_test_np = predicted_test.numpy()\n",
    "\n",
    "    # Convert tensors to numpy arrays for comparison with sklearn metrics\n",
    "    y_train_np = y_train.numpy()\n",
    "    predicted_train_np = predicted_train.numpy()\n",
    "\n",
    "    # Now you can use sklearn's metrics to compare y_test_np and predicted_np\n",
    "    # For example, to calculate accuracy:\n",
    "    accuracy1 = metrics.accuracy_score(y_train_np, predicted_train_np)\n",
    "    print(\"RNN (train): \", accuracy1)\n",
    "    accuracy2 = metrics.accuracy_score(y_test_np, predicted_test_np)\n",
    "    print(\"RNN (test): \", accuracy2)\n",
    "    return net"
   ]
  },
  {
   "cell_type": "markdown",
   "metadata": {},
   "source": [
    "# See Results"
   ]
  },
  {
   "cell_type": "code",
   "execution_count": 101,
   "metadata": {},
   "outputs": [
    {
     "name": "stdout",
     "output_type": "stream",
     "text": [
      "word2vec (train): 0.433375\n",
      "word2vec (test): 0.4305\n"
     ]
    }
   ],
   "source": [
    "new_df = create_labels_clf(synthetic_df)"
   ]
  },
  {
   "cell_type": "code",
   "execution_count": 102,
   "metadata": {},
   "outputs": [
    {
     "name": "stdout",
     "output_type": "stream",
     "text": [
      "   label  predicted  count\n",
      "0      0          0   1433\n",
      "1      0          1    940\n",
      "2      0          2    909\n",
      "3      1          0    929\n",
      "4      1          1   1443\n",
      "5      1          2   1021\n",
      "6      2          0    863\n",
      "7      2          1   1012\n",
      "8      2          2   1450\n"
     ]
    }
   ],
   "source": [
    "totals = new_df.groupby([\"label\", \"predicted\"]).size().reset_index(name=\"count\")\n",
    "print(totals)"
   ]
  },
  {
   "cell_type": "code",
   "execution_count": 103,
   "metadata": {},
   "outputs": [
    {
     "name": "stdout",
     "output_type": "stream",
     "text": [
      "RNN (train):  0.423125\n",
      "RNN (test):  0.3985\n"
     ]
    }
   ],
   "source": [
    "rnn = RNN_experiment_torch_synth(synthetic_df)"
   ]
  },
  {
   "cell_type": "markdown",
   "metadata": {},
   "source": [
    "# Try Logistic Regression Model trained on Real News Data"
   ]
  },
  {
   "cell_type": "code",
   "execution_count": 104,
   "metadata": {},
   "outputs": [
    {
     "name": "stderr",
     "output_type": "stream",
     "text": [
      "/Users/adlerviton/miniconda3/lib/python3.11/site-packages/sklearn/linear_model/_logistic.py:460: ConvergenceWarning: lbfgs failed to converge (status=1):\n",
      "STOP: TOTAL NO. of ITERATIONS REACHED LIMIT.\n",
      "\n",
      "Increase the number of iterations (max_iter) or scale the data as shown in:\n",
      "    https://scikit-learn.org/stable/modules/preprocessing.html\n",
      "Please also refer to the documentation for alternative solver options:\n",
      "    https://scikit-learn.org/stable/modules/linear_model.html#logistic-regression\n",
      "  n_iter_i = _check_optimize_result(\n"
     ]
    },
    {
     "name": "stdout",
     "output_type": "stream",
     "text": [
      "word2vec (train): 0.6497758226884358\n",
      "word2vec (test): 0.6477157360406092\n"
     ]
    }
   ],
   "source": [
    "columns = [\"text\", \"label\"]\n",
    "new_df = pd.DataFrame(columns=columns)\n",
    "clf = run_experiment()\n",
    "for i in range(2000):\n",
    "    max_length = 8\n",
    "    length = int(np.round(np.random.uniform(0.15, 1) * max_length))\n",
    "    rand_text = [random.choice(vocab) for _ in range(length)]\n",
    "    random_text = \" \".join(rand_text)\n",
    "    sent = sum(sia.lexicon[word] for word in rand_text) / len(rand_text)\n",
    "    new_df.loc[i] = [random_text, sent]  # Add rand_text to synthetic_df\n",
    "new_df[\"label\"] = np.where(\n",
    "    new_df[\"label\"] < -0.58, 0, np.where(new_df[\"label\"] > 0.18, 2, 1)\n",
    ")\n",
    "X = generate_X_word2vec(new_df)\n",
    "new_df[\"predicted\"] = clf.predict(X)"
   ]
  },
  {
   "cell_type": "markdown",
   "metadata": {},
   "source": [
    "## Note that it pretty much predicts neutral for every sentence:"
   ]
  },
  {
   "cell_type": "code",
   "execution_count": 105,
   "metadata": {},
   "outputs": [
    {
     "name": "stdout",
     "output_type": "stream",
     "text": [
      "   label  predicted  count\n",
      "0      0          0      3\n",
      "1      0          1    672\n",
      "2      0          2      3\n",
      "3      1          0      2\n",
      "4      1          1    662\n",
      "5      1          2      3\n",
      "6      2          0      3\n",
      "7      2          1    648\n",
      "8      2          2      4\n"
     ]
    }
   ],
   "source": [
    "totals = new_df.groupby([\"label\", \"predicted\"]).size().reset_index(name=\"count\")\n",
    "print(totals)"
   ]
  }
 ],
 "metadata": {
  "kernelspec": {
   "display_name": "Python 3",
   "language": "python",
   "name": "python3"
  },
  "language_info": {
   "codemirror_mode": {
    "name": "ipython",
    "version": 3
   },
   "file_extension": ".py",
   "mimetype": "text/x-python",
   "name": "python",
   "nbconvert_exporter": "python",
   "pygments_lexer": "ipython3",
   "version": "3.11.5"
  },
  "orig_nbformat": 4
 },
 "nbformat": 4,
 "nbformat_minor": 2
}
